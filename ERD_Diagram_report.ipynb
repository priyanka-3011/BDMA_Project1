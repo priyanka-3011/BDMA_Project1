{
  "nbformat": 4,
  "nbformat_minor": 0,
  "metadata": {
    "colab": {
      "provenance": []
    },
    "kernelspec": {
      "name": "python3",
      "display_name": "Python 3"
    },
    "language_info": {
      "name": "python"
    }
  },
  "cells": [
    {
      "cell_type": "markdown",
      "source": [
        "\n",
        "\n",
        "# **Entity-Relationship Diagram (ERD) Report for Online Movie Recommendation & Streaming Analytics System**\n",
        "\n",
        "**Group 30**\n",
        "\n",
        "\n",
        "**Prachi Lakra (055029)**\n",
        "\n",
        "**Priyanka Goyal (055034)**\n"
      ],
      "metadata": {
        "id": "uwB_0QcvcKh-"
      }
    },
    {
      "cell_type": "markdown",
      "source": [
        "# 1. Introduction\n",
        "\n",
        "The Online Movie Recommendation & Streaming Analytics System is designed to enhance user experience by leveraging data analytics for personalized recommendations. The system stores user interactions, subscription details, and movie reviews to analyze viewing patterns and optimize content delivery.\n",
        "\n",
        "This report explains the Entity-Relationship Diagram (ERD) developed for the system, highlighting key entities, their attributes, and the relationships among them. The ERD follows Crow’s Foot notation to represent cardinalities effectively.\n",
        "\n",
        "# 2. ERD Explanation (Entities & Attributes)\n",
        "\n",
        "## 2.1 User Table\n",
        "\n",
        "Stores user-related information such as identification, age, and subscription details.\n",
        "\n",
        "**Primary Key (PK): UserID**\n",
        "\n",
        "Attributes: Name, Age, SubscriptionPlan\n",
        "\n",
        "## 2.2 Movie Table\n",
        "\n",
        "Represents movies available in the system, including genre and ratings.\n",
        "\n",
        "**Primary Key (PK): MovieID**\n",
        "\n",
        "Attributes: Title, Genre, ReleaseYear, IMDBRating\n",
        "\n",
        "## 2.3 WatchHistory Table\n",
        "\n",
        "Records viewing activities of users, tracking movie watches and durations.\n",
        "\n",
        "**Primary Key (PK): HistoryID**\n",
        "\n",
        "Foreign Keys (FK): UserID (references User), MovieID (references Movie)\n",
        "\n",
        "Attributes: WatchDate, DurationWatched\n",
        "\n",
        "## 2.4 Subscription Table\n",
        "\n",
        "Maintains subscription details, including cost and expiry information.\n",
        "\n",
        "**Primary Key (PK): SubscriptionID**\n",
        "\n",
        "Foreign Key (FK): UserID (references User)\n",
        "\n",
        "Attributes: PlanType, ExpiryDate, MonthlyCost\n",
        "\n",
        "## 2.5 Review Table\n",
        "\n",
        "Captures user ratings and feedback on movies.\n",
        "\n",
        "**Primary Key (PK): ReviewID**\n",
        "\n",
        "Foreign Keys (FK): UserID (references User), MovieID (references Movie)\n",
        "\n",
        "Attributes: Rating, ReviewText, DatePosted\n",
        "\n",
        "#3. Relationships & Cardinalities\n",
        "\n",
        "The ERD utilizes Crow’s Foot notation to depict relationships:\n",
        "\n",
        "User to WatchHistory (1:M) – One user can have multiple watch history records, but each history record belongs to a single user.\n",
        "\n",
        "Movie to WatchHistory (1:M) – One movie can be watched multiple times by different users, but each record belongs to a single movie.\n",
        "\n",
        "User to Subscription (1:1) – Each user can have only one active subscription at a time.\n",
        "\n",
        "User to Review (1:M) – A user can submit multiple reviews, but each review belongs to a single user.\n",
        "\n",
        "Movie to Review (1:M) – A movie can have multiple reviews, but each review belongs to a single movie.\n",
        "\n",
        "#4. Conclusion\n",
        "\n",
        "The ERD for the Online Movie Recommendation & Streaming Analytics System effectively models the core data relationships required for personalized recommendations, user engagement tracking, and content analysis. The structure ensures efficient data storage and retrieval, facilitating better analytics and content optimization.\n",
        "\n",
        "This structured model enables the platform to analyze trends, enhance user experience, and improve decision-making through data-driven insights."
      ],
      "metadata": {
        "id": "9odIOUrGcetY"
      }
    }
  ]
}